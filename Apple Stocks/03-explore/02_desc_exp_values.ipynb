{
 "cells": [
  {
   "cell_type": "code",
   "id": "initial_id",
   "metadata": {
    "collapsed": true,
    "ExecuteTime": {
     "end_time": "2024-10-31T06:36:53.031777Z",
     "start_time": "2024-10-31T06:36:53.023636Z"
    }
   },
   "source": [
    "from desc_exp_1_py import values_count, mean_values\n",
    "from desc_exp_1_py import median_values, range_max_min\n",
    "from desc_exp_1_py import var_dict, std_dev_dict"
   ],
   "outputs": [],
   "execution_count": 23
  },
  {
   "metadata": {
    "ExecuteTime": {
     "end_time": "2024-10-31T16:22:57.820770Z",
     "start_time": "2024-10-31T16:22:57.808124Z"
    }
   },
   "cell_type": "code",
   "source": [
    "# Count data\n",
    "print(\"Raw output, tables are provided further on\")\n",
    "print(\" \")\n",
    "print(\"---------------------------------\")\n",
    "print(\" \")\n",
    "print(\"Number of rows \", values_count)\n",
    "print(\" \")\n",
    "print(\"---------------------------------\")\n",
    "print(\" \")\n",
    "\n",
    "# Means\n",
    "print(\"Means\")\n",
    "print(mean_values)\n",
    "print(\" \")\n",
    "print(\"---------------------------------\")\n",
    "print(\" \")\n",
    "\n",
    "# Medians\n",
    "print(\"Median\")\n",
    "print(median_values)\n",
    "print(\" \")\n",
    "print(\"---------------------------------\")\n",
    "print(\" \")\n",
    "\n",
    "# Range : Max + Min\n",
    "print(\"Range: Max/Min\")\n",
    "print(range_max_min)\n",
    "print(\" \")\n",
    "print(\"---------------------------------\")\n",
    "print(\" \")\n",
    "\n",
    "# Variance\n",
    "print(\"Variance\")\n",
    "print(var_dict)\n",
    "print(\" \")\n",
    "print(\"---------------------------------\")\n",
    "print(\" \")\n",
    "\n",
    "# Standard Deviations\n",
    "print(\"Standard Deviation\")\n",
    "print(std_dev_dict)\n",
    "print(\" \")\n",
    "print(\"---------------------------------\")\n",
    "print(\" \")"
   ],
   "id": "1c4d2ffffc25b271",
   "outputs": [
    {
     "name": "stdout",
     "output_type": "stream",
     "text": [
      "Raw output, tables are provided further on\n",
      " \n",
      "---------------------------------\n",
      " \n",
      "Number of rows  34\n",
      " \n",
      "---------------------------------\n",
      " \n",
      "Means\n",
      "{'Mean Open': 343.74, 'Mean High': 346.709705882353, 'Mean Low': 340.9085294117647, 'Mean Close': 344.5467647058823}\n",
      " \n",
      "---------------------------------\n",
      " \n",
      "Median\n",
      "{'Median Open': 343.78999999999996, 'Median High': 345.105, 'Median Low': 341.24, 'Median Close': 343.645}\n",
      " \n",
      "---------------------------------\n",
      " \n",
      "Range: Max/Min\n",
      "{'Max Open': 360.8, 'Min Open': 325.64, 'Range Open': 35.160000000000025, 'Max High': 364.9, 'Min High': 330.26, 'Range High': 34.639999999999986, 'Max Low': 360.5, 'Min Low': 324.84, 'Range Low': 35.660000000000025, 'Max Close': 363.13, 'Min Close': 326.72, 'Range Close': 36.40999999999997}\n",
      " \n",
      "---------------------------------\n",
      " \n",
      "Variance\n",
      "{'Variance Open': 100.3884484848485, 'Variance High': 87.03205748663103, 'Variance Low': 104.88732807486635, 'SVariance Close': 91.70083467023173}\n",
      " \n",
      "---------------------------------\n",
      " \n",
      "Standard Deviation\n",
      "{'Std.Dev Open': 10.019403599259213, 'Std.Dev High': 9.329097356477261, 'Std.Dev Low': 10.241451463287142, 'Std.Dev Close': 9.576055277108196}\n",
      " \n",
      "---------------------------------\n",
      " \n"
     ]
    }
   ],
   "execution_count": 32
  },
  {
   "metadata": {
    "ExecuteTime": {
     "end_time": "2024-10-31T15:55:29.919385Z",
     "start_time": "2024-10-31T15:55:29.879512Z"
    }
   },
   "cell_type": "code",
   "source": [
    "import pandas as pd\n",
    "mean_frame = pd.DataFrame(list(mean_values.items()), columns=['Key', 'Values'])\n",
    "mean_frame"
   ],
   "id": "80fcf2bc0dc93e6e",
   "outputs": [
    {
     "data": {
      "text/plain": [
       "          Key      Values\n",
       "0   Mean Open  343.740000\n",
       "1   Mean High  346.709706\n",
       "2    Mean Low  340.908529\n",
       "3  Mean Close  344.546765"
      ],
      "text/html": [
       "<div>\n",
       "<style scoped>\n",
       "    .dataframe tbody tr th:only-of-type {\n",
       "        vertical-align: middle;\n",
       "    }\n",
       "\n",
       "    .dataframe tbody tr th {\n",
       "        vertical-align: top;\n",
       "    }\n",
       "\n",
       "    .dataframe thead th {\n",
       "        text-align: right;\n",
       "    }\n",
       "</style>\n",
       "<table border=\"1\" class=\"dataframe\">\n",
       "  <thead>\n",
       "    <tr style=\"text-align: right;\">\n",
       "      <th></th>\n",
       "      <th>Key</th>\n",
       "      <th>Values</th>\n",
       "    </tr>\n",
       "  </thead>\n",
       "  <tbody>\n",
       "    <tr>\n",
       "      <th>0</th>\n",
       "      <td>Mean Open</td>\n",
       "      <td>343.740000</td>\n",
       "    </tr>\n",
       "    <tr>\n",
       "      <th>1</th>\n",
       "      <td>Mean High</td>\n",
       "      <td>346.709706</td>\n",
       "    </tr>\n",
       "    <tr>\n",
       "      <th>2</th>\n",
       "      <td>Mean Low</td>\n",
       "      <td>340.908529</td>\n",
       "    </tr>\n",
       "    <tr>\n",
       "      <th>3</th>\n",
       "      <td>Mean Close</td>\n",
       "      <td>344.546765</td>\n",
       "    </tr>\n",
       "  </tbody>\n",
       "</table>\n",
       "</div>"
      ]
     },
     "execution_count": 31,
     "metadata": {},
     "output_type": "execute_result"
    }
   ],
   "execution_count": 31
  },
  {
   "metadata": {
    "ExecuteTime": {
     "end_time": "2024-10-31T16:40:14.721866Z",
     "start_time": "2024-10-31T16:40:14.665182Z"
    }
   },
   "cell_type": "code",
   "source": [
    "median_frame = pd.DataFrame(list(median_values.items()), columns=['Key', 'Values'])\n",
    "median_frame"
   ],
   "id": "8ff3e469b5041388",
   "outputs": [
    {
     "data": {
      "text/plain": [
       "            Key   Values\n",
       "0   Median Open  343.790\n",
       "1   Median High  345.105\n",
       "2    Median Low  341.240\n",
       "3  Median Close  343.645"
      ],
      "text/html": [
       "<div>\n",
       "<style scoped>\n",
       "    .dataframe tbody tr th:only-of-type {\n",
       "        vertical-align: middle;\n",
       "    }\n",
       "\n",
       "    .dataframe tbody tr th {\n",
       "        vertical-align: top;\n",
       "    }\n",
       "\n",
       "    .dataframe thead th {\n",
       "        text-align: right;\n",
       "    }\n",
       "</style>\n",
       "<table border=\"1\" class=\"dataframe\">\n",
       "  <thead>\n",
       "    <tr style=\"text-align: right;\">\n",
       "      <th></th>\n",
       "      <th>Key</th>\n",
       "      <th>Values</th>\n",
       "    </tr>\n",
       "  </thead>\n",
       "  <tbody>\n",
       "    <tr>\n",
       "      <th>0</th>\n",
       "      <td>Median Open</td>\n",
       "      <td>343.790</td>\n",
       "    </tr>\n",
       "    <tr>\n",
       "      <th>1</th>\n",
       "      <td>Median High</td>\n",
       "      <td>345.105</td>\n",
       "    </tr>\n",
       "    <tr>\n",
       "      <th>2</th>\n",
       "      <td>Median Low</td>\n",
       "      <td>341.240</td>\n",
       "    </tr>\n",
       "    <tr>\n",
       "      <th>3</th>\n",
       "      <td>Median Close</td>\n",
       "      <td>343.645</td>\n",
       "    </tr>\n",
       "  </tbody>\n",
       "</table>\n",
       "</div>"
      ]
     },
     "execution_count": 33,
     "metadata": {},
     "output_type": "execute_result"
    }
   ],
   "execution_count": 33
  },
  {
   "metadata": {
    "ExecuteTime": {
     "end_time": "2024-10-31T16:41:42.247996Z",
     "start_time": "2024-10-31T16:41:42.223603Z"
    }
   },
   "cell_type": "code",
   "source": [
    "range_frame = pd.DataFrame(list(range_max_min.items()), columns=['Key', 'Values'])\n",
    "range_frame"
   ],
   "id": "c8d1f9d14f950db2",
   "outputs": [
    {
     "data": {
      "text/plain": [
       "            Key  Values\n",
       "0      Max Open  360.80\n",
       "1      Min Open  325.64\n",
       "2    Range Open   35.16\n",
       "3      Max High  364.90\n",
       "4      Min High  330.26\n",
       "5    Range High   34.64\n",
       "6       Max Low  360.50\n",
       "7       Min Low  324.84\n",
       "8     Range Low   35.66\n",
       "9     Max Close  363.13\n",
       "10    Min Close  326.72\n",
       "11  Range Close   36.41"
      ],
      "text/html": [
       "<div>\n",
       "<style scoped>\n",
       "    .dataframe tbody tr th:only-of-type {\n",
       "        vertical-align: middle;\n",
       "    }\n",
       "\n",
       "    .dataframe tbody tr th {\n",
       "        vertical-align: top;\n",
       "    }\n",
       "\n",
       "    .dataframe thead th {\n",
       "        text-align: right;\n",
       "    }\n",
       "</style>\n",
       "<table border=\"1\" class=\"dataframe\">\n",
       "  <thead>\n",
       "    <tr style=\"text-align: right;\">\n",
       "      <th></th>\n",
       "      <th>Key</th>\n",
       "      <th>Values</th>\n",
       "    </tr>\n",
       "  </thead>\n",
       "  <tbody>\n",
       "    <tr>\n",
       "      <th>0</th>\n",
       "      <td>Max Open</td>\n",
       "      <td>360.80</td>\n",
       "    </tr>\n",
       "    <tr>\n",
       "      <th>1</th>\n",
       "      <td>Min Open</td>\n",
       "      <td>325.64</td>\n",
       "    </tr>\n",
       "    <tr>\n",
       "      <th>2</th>\n",
       "      <td>Range Open</td>\n",
       "      <td>35.16</td>\n",
       "    </tr>\n",
       "    <tr>\n",
       "      <th>3</th>\n",
       "      <td>Max High</td>\n",
       "      <td>364.90</td>\n",
       "    </tr>\n",
       "    <tr>\n",
       "      <th>4</th>\n",
       "      <td>Min High</td>\n",
       "      <td>330.26</td>\n",
       "    </tr>\n",
       "    <tr>\n",
       "      <th>5</th>\n",
       "      <td>Range High</td>\n",
       "      <td>34.64</td>\n",
       "    </tr>\n",
       "    <tr>\n",
       "      <th>6</th>\n",
       "      <td>Max Low</td>\n",
       "      <td>360.50</td>\n",
       "    </tr>\n",
       "    <tr>\n",
       "      <th>7</th>\n",
       "      <td>Min Low</td>\n",
       "      <td>324.84</td>\n",
       "    </tr>\n",
       "    <tr>\n",
       "      <th>8</th>\n",
       "      <td>Range Low</td>\n",
       "      <td>35.66</td>\n",
       "    </tr>\n",
       "    <tr>\n",
       "      <th>9</th>\n",
       "      <td>Max Close</td>\n",
       "      <td>363.13</td>\n",
       "    </tr>\n",
       "    <tr>\n",
       "      <th>10</th>\n",
       "      <td>Min Close</td>\n",
       "      <td>326.72</td>\n",
       "    </tr>\n",
       "    <tr>\n",
       "      <th>11</th>\n",
       "      <td>Range Close</td>\n",
       "      <td>36.41</td>\n",
       "    </tr>\n",
       "  </tbody>\n",
       "</table>\n",
       "</div>"
      ]
     },
     "execution_count": 34,
     "metadata": {},
     "output_type": "execute_result"
    }
   ],
   "execution_count": 34
  },
  {
   "metadata": {
    "ExecuteTime": {
     "end_time": "2024-10-31T16:43:32.785627Z",
     "start_time": "2024-10-31T16:43:32.745538Z"
    }
   },
   "cell_type": "code",
   "source": [
    "var_frame = pd.DataFrame(list(var_dict.items()), columns=['Key', 'Values'])\n",
    "var_frame"
   ],
   "id": "937a4998b2ce8af",
   "outputs": [
    {
     "data": {
      "text/plain": [
       "               Key      Values\n",
       "0    Variance Open  100.388448\n",
       "1    Variance High   87.032057\n",
       "2     Variance Low  104.887328\n",
       "3  SVariance Close   91.700835"
      ],
      "text/html": [
       "<div>\n",
       "<style scoped>\n",
       "    .dataframe tbody tr th:only-of-type {\n",
       "        vertical-align: middle;\n",
       "    }\n",
       "\n",
       "    .dataframe tbody tr th {\n",
       "        vertical-align: top;\n",
       "    }\n",
       "\n",
       "    .dataframe thead th {\n",
       "        text-align: right;\n",
       "    }\n",
       "</style>\n",
       "<table border=\"1\" class=\"dataframe\">\n",
       "  <thead>\n",
       "    <tr style=\"text-align: right;\">\n",
       "      <th></th>\n",
       "      <th>Key</th>\n",
       "      <th>Values</th>\n",
       "    </tr>\n",
       "  </thead>\n",
       "  <tbody>\n",
       "    <tr>\n",
       "      <th>0</th>\n",
       "      <td>Variance Open</td>\n",
       "      <td>100.388448</td>\n",
       "    </tr>\n",
       "    <tr>\n",
       "      <th>1</th>\n",
       "      <td>Variance High</td>\n",
       "      <td>87.032057</td>\n",
       "    </tr>\n",
       "    <tr>\n",
       "      <th>2</th>\n",
       "      <td>Variance Low</td>\n",
       "      <td>104.887328</td>\n",
       "    </tr>\n",
       "    <tr>\n",
       "      <th>3</th>\n",
       "      <td>SVariance Close</td>\n",
       "      <td>91.700835</td>\n",
       "    </tr>\n",
       "  </tbody>\n",
       "</table>\n",
       "</div>"
      ]
     },
     "execution_count": 35,
     "metadata": {},
     "output_type": "execute_result"
    }
   ],
   "execution_count": 35
  },
  {
   "metadata": {
    "ExecuteTime": {
     "end_time": "2024-10-31T16:47:04.105349Z",
     "start_time": "2024-10-31T16:47:04.087596Z"
    }
   },
   "cell_type": "code",
   "source": [
    "SD_frame = pd.DataFrame(list(std_dev_dict.items()), columns=['Key', 'Values'])\n",
    "SD_frame"
   ],
   "id": "b4c738450507f1ab",
   "outputs": [
    {
     "data": {
      "text/plain": [
       "             Key     Values\n",
       "0   Std.Dev Open  10.019404\n",
       "1   Std.Dev High   9.329097\n",
       "2    Std.Dev Low  10.241451\n",
       "3  Std.Dev Close   9.576055"
      ],
      "text/html": [
       "<div>\n",
       "<style scoped>\n",
       "    .dataframe tbody tr th:only-of-type {\n",
       "        vertical-align: middle;\n",
       "    }\n",
       "\n",
       "    .dataframe tbody tr th {\n",
       "        vertical-align: top;\n",
       "    }\n",
       "\n",
       "    .dataframe thead th {\n",
       "        text-align: right;\n",
       "    }\n",
       "</style>\n",
       "<table border=\"1\" class=\"dataframe\">\n",
       "  <thead>\n",
       "    <tr style=\"text-align: right;\">\n",
       "      <th></th>\n",
       "      <th>Key</th>\n",
       "      <th>Values</th>\n",
       "    </tr>\n",
       "  </thead>\n",
       "  <tbody>\n",
       "    <tr>\n",
       "      <th>0</th>\n",
       "      <td>Std.Dev Open</td>\n",
       "      <td>10.019404</td>\n",
       "    </tr>\n",
       "    <tr>\n",
       "      <th>1</th>\n",
       "      <td>Std.Dev High</td>\n",
       "      <td>9.329097</td>\n",
       "    </tr>\n",
       "    <tr>\n",
       "      <th>2</th>\n",
       "      <td>Std.Dev Low</td>\n",
       "      <td>10.241451</td>\n",
       "    </tr>\n",
       "    <tr>\n",
       "      <th>3</th>\n",
       "      <td>Std.Dev Close</td>\n",
       "      <td>9.576055</td>\n",
       "    </tr>\n",
       "  </tbody>\n",
       "</table>\n",
       "</div>"
      ]
     },
     "execution_count": 37,
     "metadata": {},
     "output_type": "execute_result"
    }
   ],
   "execution_count": 37
  },
  {
   "metadata": {},
   "cell_type": "code",
   "outputs": [],
   "execution_count": null,
   "source": "",
   "id": "ce0b6b5d6000942e"
  }
 ],
 "metadata": {
  "kernelspec": {
   "display_name": "Python 3",
   "language": "python",
   "name": "python3"
  },
  "language_info": {
   "codemirror_mode": {
    "name": "ipython",
    "version": 2
   },
   "file_extension": ".py",
   "mimetype": "text/x-python",
   "name": "python",
   "nbconvert_exporter": "python",
   "pygments_lexer": "ipython2",
   "version": "2.7.6"
  }
 },
 "nbformat": 4,
 "nbformat_minor": 5
}
