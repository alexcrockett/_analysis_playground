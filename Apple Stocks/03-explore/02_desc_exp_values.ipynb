{
 "cells": [
  {
   "cell_type": "code",
   "id": "initial_id",
   "metadata": {
    "collapsed": true,
    "ExecuteTime": {
     "end_time": "2024-10-31T06:36:53.031777Z",
     "start_time": "2024-10-31T06:36:53.023636Z"
    }
   },
   "source": [
    "from desc_exp_1_py import values_count, mean_values\n",
    "from desc_exp_1_py import median_values, range_max_min\n",
    "from desc_exp_1_py import var_dict, std_dev_dict"
   ],
   "outputs": [],
   "execution_count": 23
  },
  {
   "metadata": {
    "ExecuteTime": {
     "end_time": "2024-10-31T06:45:17.534150Z",
     "start_time": "2024-10-31T06:45:17.518243Z"
    }
   },
   "cell_type": "code",
   "source": [
    "# Count data\n",
    "print(\" \")\n",
    "print(\"---------------------------------\")\n",
    "print(\" \")\n",
    "print(\"Number of rows \", values_count)\n",
    "print(\" \")\n",
    "print(\"---------------------------------\")\n",
    "print(\" \")\n",
    "\n",
    "# Means\n",
    "print(\"Means\")\n",
    "print(mean_values)\n",
    "print(\" \")\n",
    "print(\"---------------------------------\")\n",
    "print(\" \")\n",
    "\n",
    "# Medians\n",
    "print(\"Median\")\n",
    "print(median_values)\n",
    "print(\" \")\n",
    "print(\"---------------------------------\")\n",
    "print(\" \")\n",
    "\n",
    "# Range : Max + Min\n",
    "print(\"Range: Max/Min\")\n",
    "print(range_max_min)\n",
    "print(\" \")\n",
    "print(\"---------------------------------\")\n",
    "print(\" \")\n",
    "\n",
    "# Variance\n",
    "print(\"Variance\")\n",
    "print(var_dict)\n",
    "print(\" \")\n",
    "print(\"---------------------------------\")\n",
    "print(\" \")\n",
    "\n",
    "# Standard Deviations\n",
    "print(\"Standard Deviation\")\n",
    "print(std_dev_dict)\n",
    "print(\" \")\n",
    "print(\"---------------------------------\")\n",
    "print(\" \")"
   ],
   "id": "1c4d2ffffc25b271",
   "outputs": [
    {
     "name": "stdout",
     "output_type": "stream",
     "text": [
      " \n",
      "---------------------------------\n",
      " \n",
      "Number of rows  34\n",
      " \n",
      "---------------------------------\n",
      " \n",
      "Means\n",
      "{'Mean Open': 343.74, 'Mean High': 346.709705882353, 'Mean Low': 340.9085294117647, 'Mean Close': 344.5467647058823}\n",
      " \n",
      "---------------------------------\n",
      " \n",
      "Median\n",
      "{'Median Open': 343.78999999999996, 'Median High': 345.105, 'Median Low': 341.24, 'Median Close': 343.645}\n",
      " \n",
      "---------------------------------\n",
      " \n",
      "Range: Max/Min\n",
      "{'Max Open': 360.8, 'Min Open': 325.64, 'Range Open': 35.160000000000025, 'Max High': 364.9, 'Min High': 330.26, 'Range High': 34.639999999999986, 'Max Low': 360.5, 'Min Low': 324.84, 'Range Low': 35.660000000000025, 'Max Close': 363.13, 'Min Close': 326.72, 'Range Close': 36.40999999999997}\n",
      " \n",
      "---------------------------------\n",
      " \n",
      "Variance\n",
      "{'Variance Open': 100.3884484848485, 'Variance High': 87.03205748663103, 'Variance Low': 104.88732807486635, 'SVariance Close': 91.70083467023173}\n",
      " \n",
      "---------------------------------\n",
      " \n",
      "Standard Deviation\n",
      "{'Std.Dev Open': 10.019403599259213, 'Std.Dev High': 9.329097356477261, 'Std.Dev Low': 10.241451463287142, 'Std.Dev Close': 9.576055277108196}\n",
      " \n",
      "---------------------------------\n",
      " \n"
     ]
    }
   ],
   "execution_count": 27
  },
  {
   "metadata": {},
   "cell_type": "code",
   "outputs": [],
   "execution_count": null,
   "source": "",
   "id": "80fcf2bc0dc93e6e"
  }
 ],
 "metadata": {
  "kernelspec": {
   "display_name": "Python 3",
   "language": "python",
   "name": "python3"
  },
  "language_info": {
   "codemirror_mode": {
    "name": "ipython",
    "version": 2
   },
   "file_extension": ".py",
   "mimetype": "text/x-python",
   "name": "python",
   "nbconvert_exporter": "python",
   "pygments_lexer": "ipython2",
   "version": "2.7.6"
  }
 },
 "nbformat": 4,
 "nbformat_minor": 5
}
